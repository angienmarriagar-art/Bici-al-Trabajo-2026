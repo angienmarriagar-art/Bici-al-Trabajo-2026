{
  "nbformat": 4,
  "nbformat_minor": 0,
  "metadata": {
    "colab": {
      "provenance": [],
      "include_colab_link": true
    },
    "kernelspec": {
      "name": "python3",
      "display_name": "Python 3"
    },
    "language_info": {
      "name": "python"
    }
  },
  "cells": [
    {
      "cell_type": "markdown",
      "metadata": {
        "id": "view-in-github",
        "colab_type": "text"
      },
      "source": [
        "<a href=\"https://colab.research.google.com/github/angienmarriagar-art/Bici-al-Trabajo-2026/blob/main/Regresion_Lineal.ipynb\" target=\"_parent\"><img src=\"https://colab.research.google.com/assets/colab-badge.svg\" alt=\"Open In Colab\"/></a>"
      ]
    },
    {
      "cell_type": "code",
      "execution_count": null,
      "metadata": {
        "id": "nJSjQ83RGkqo"
      },
      "outputs": [],
      "source": []
    },
    {
      "cell_type": "markdown",
      "source": [
        "Parte 1:\n",
        "\n",
        "Definición del Problema\n",
        "Piensa en tu experiencia académica o laboral en un área de operaciones y elige un problema relacionado con inventarios, calidad, mantenimiento o productividad.\n",
        "\n",
        "Indica cuál es tu variable dependiente\n",
        " (aquello que quieres predecir o clasificar).\n",
        "Lista entre 3 y 5 variables independientes\n",
        " que medirías para predecir\n",
        ".\n",
        "Especifica si tu problema es de regresión (predecir un valor numérico) o de clasificación.\n",
        "Respuesta (escribe aquí):\n",
        "\n",
        "Respuesta 1:\n",
        "\n",
        "En una planta de producción de guantes de látex, se busca mejorar la productividad de la máquina automática, ya que se han identificado tiempos muertos excesivos durante los cambios de referencia.\n",
        "Variable dependiente (a predecir): Productividad (unidades producidas por hora).\n",
        "Variables independientes: Tiempo de cambio de referencia (minutos).\n",
        "Número de operarios en el cambio.\n",
        "Nivel de capacitación del personal (horas de entrenamiento).\n",
        "Frecuencia de fallas técnicas de la máquina.\n",
        "Tipo de problema: Regresión, porque se predice un valor numérico (productividad).\n",
        "\n",
        "Respuesta 2:\n",
        "\n",
        "En el área de inventarios de una empresa de distribución de tanques de agua, se presentan quiebres de stock que afectan las ventas.\n",
        "Variable dependiente: Disponibilidad de inventario (en % de cumplimiento de pedidos).\n",
        "Variables independientes: Tiempo de reabastecimiento del proveedor (días).\n",
        "Cantidad de pedidos por semana.\n",
        "Nivel de demanda promedio mensual.\n",
        "Nivel de inventario de seguridad.\n",
        "Tipo de problema: Regresión, ya que se predice un porcentaje de cumplimiento.\n",
        "\n",
        "Respuesta 3:\n",
        "\n",
        "En el área de calidad de producción textil, algunas prendas presentan defectos de costura que generan retrabajos.\n",
        "Variable dependiente: Prenda clasificada como defectuosa o no defectuosa.\n",
        "Variables independientes: Experiencia del operario (años de experiencia).\n",
        "Velocidad de la máquina de coser (puntadas por minuto).\n",
        "Tipo de tela utilizada.\n",
        "Tipo de problema: Clasificación, porque se clasifica en dos categorías (defectuosa / no defectuosa)."
      ],
      "metadata": {
        "id": "Ep_JMy5jIyvW"
      }
    },
    {
      "cell_type": "markdown",
      "source": [],
      "metadata": {
        "id": "tqYmSOWhORKB"
      }
    },
    {
      "cell_type": "markdown",
      "source": [
        "PUNTO 2\n",
        "\n",
        "El “tiempo de cambio (minutos)” y la “frecuencia de fallas” están en escalas distintas. Normalizar o estandarizar permite que los algoritmos de aprendizaje automático ponderen las variables de manera equilibrada.\n",
        "\n",
        "nivel de capacitación del personal o tipo de cambio de referencia pueden ser categóricas. Se requiere convertirlas en variables numéricas (One-Hot Encoding o Label Encoding) para que los algoritmos puedan procesarlas."
      ],
      "metadata": {
        "id": "WkkDX4tn94F8"
      }
    },
    {
      "cell_type": "code",
      "source": [
        "Parte 4: Regresión Múltiple y Colinealidad\n",
        "1. Vector de variables X-> y respuesta Y:\n",
        "\n",
        "Y = Productividad (unidades producidas por hora)\n",
        "X-> = [Tiempo de cambio (min), Número de operarios, Horas de capacitación, Frecuencia de fallas, Variables dummy para tipo de referencia]\n",
        "2. Interpretación de coeficiente:\n",
        "\n",
        "Para la variable \"Tiempo de cambio de referencia\":\n",
        "\n",
        "Coeficiente esperado: Negativo (ej. -2.5)\n",
        "Interpretación: \"Por cada minuto adicional en el tiempo de cambio de referencia, la productividad disminuye en 2.5 unidades por hora, manteniendo las demás variables constantes\"\n",
        "Unidades: (unidades/hora) / minuto\n",
        "Relación: Negativa, porque mayor tiempo de cambio reduce la productividad\n",
        "3. Dos acciones para mitigar colinealidad:\n",
        "\n",
        "Eliminar una de las variables correlacionadas: Si \"número de operarios\" y \"horas de capacitación\" están muy correlacionadas, mantener solo la más relevante\n",
        "Crear un índice compuesto: Combinar variables relacionadas en un solo indicador (ej. \"índice de eficiencia del personal\" que combine operarios y capacitación)\n",
        "Parte 5: Interacciones y Multicolinealidad (VIF)\n",
        "1. Término de interacción útil:\n",
        "\n",
        "Variables: Y = Productividad, X₁ = Tiempo de cambio, X₂ = Número de operarios, X₃ = Capacitación, X₄ = Frecuencia de fallas, X₅ = Tipo de referencia, X₆ = Turno de trabajo\n",
        "\n",
        "Interacción propuesta: X₁ × X₂ (Tiempo de cambio × Número de operarios)\n",
        "\n",
        "Justificación: El efecto del tiempo de cambio en la productividad puede depender del número de operarios disponibles. Con más operarios, el impacto negativo del tiempo de cambio podría ser menor porque pueden trabajar en paralelo.\n",
        "\n",
        "2. Dos acciones para VIF alto (>10):\n",
        "\n",
        "Eliminar la variable problemática si no es crítica para el modelo\n",
        "Aplicar regularización Ridge que penaliza coeficientes altos y reduce el impacto de la multicolinealidad\n",
        "Parte 6: Variables Categóricas e Interacciones\n",
        "1. Variable categórica:\n",
        "\n",
        "Variable: \"Turno de trabajo\" con categorías: Mañana, Tarde, Noche Nivel base: \"Turno Mañana\" Justificación: Es el turno estándar con mejor iluminación natural y personal más descansado, representando condiciones \"normales\" de operación.\n",
        "\n",
        "2. Interacción numérica-categórica:\n",
        "\n",
        "Interacción: (Horas de capacitación) × (Turno Tarde)\n",
        "\n",
        "Interpretación del coeficiente: \"El efecto de las horas de capacitación en la productividad es diferente en el turno de tarde comparado con el turno de mañana. Si el coeficiente es positivo, significa que la capacitación tiene mayor impacto beneficioso en el turno de tarde.\"\n",
        "\n",
        "Parte 7: Conceptos Clave de Clasificación\n",
        "1. Curva ROC:\n",
        "\n",
        "La curva ROC (Receiver Operating Characteristic) grafica la Tasa de Verdaderos Positivos vs la Tasa de Falsos Positivos para diferentes umbrales de clasificación. Se utiliza para:\n",
        "\n",
        "Evaluar el rendimiento de modelos de clasificación binaria\n",
        "Comparar diferentes modelos (mayor área bajo la curva = mejor modelo)\n",
        "Seleccionar el umbral óptimo de decisión\n",
        "2. Accuracy (Exactitud):\n",
        "\n",
        "Definición: Proporción de predicciones correctas sobre el total: (VP + VN) / (VP + VN + FP + FN)\n",
        "\n",
        "Situación engañosa: En datasets desbalanceados. Ejemplo: Si solo el 1% de productos son defectuosos, un modelo que siempre predice \"no defectuoso\" tendrá 99% de accuracy pero será inútil para detectar defectos.\n",
        "\n",
        "3. Matriz de Confusión:\n",
        "\n",
        "Es una tabla 2×2 que compara predicciones vs valores reales:\n",
        "\n",
        "Predicción Positiva     Predicción Negativa\n",
        "Real Positivo   VP (Verdaderos Positivos)       FN (Falsos Negativos)\n",
        "Real Negativo   FP (Falsos Positivos)   VN (Verdaderos Negativos)\n",
        "Interpretación:\n",
        "\n",
        "VP: Casos positivos correctamente identificados\n",
        "VN: Casos negativos correctamente identificados\n",
        "FP: Error Tipo I (falsa alarma)\n",
        "FN: Error Tipo II (no detectar un caso positivo)"
      ],
      "metadata": {
        "id": "sU6hsqLiROnn"
      },
      "execution_count": null,
      "outputs": []
    }
  ]
}